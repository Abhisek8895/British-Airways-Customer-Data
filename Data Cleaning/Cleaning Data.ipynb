{
 "cells": [
  {
   "cell_type": "code",
   "execution_count": 1,
   "id": "e63a8018",
   "metadata": {},
   "outputs": [],
   "source": [
    "import pandas as pd\n",
    "import seaborn as sns\n",
    "import matplotlib.pyplot as plt\n",
    "import re"
   ]
  },
  {
   "cell_type": "code",
   "execution_count": 7,
   "id": "b9f766f9",
   "metadata": {},
   "outputs": [],
   "source": [
    "## Reading the dataset"
   ]
  },
  {
   "cell_type": "code",
   "execution_count": 2,
   "id": "3941345c",
   "metadata": {},
   "outputs": [
    {
     "data": {
      "text/html": [
       "<div>\n",
       "<style scoped>\n",
       "    .dataframe tbody tr th:only-of-type {\n",
       "        vertical-align: middle;\n",
       "    }\n",
       "\n",
       "    .dataframe tbody tr th {\n",
       "        vertical-align: top;\n",
       "    }\n",
       "\n",
       "    .dataframe thead th {\n",
       "        text-align: right;\n",
       "    }\n",
       "</style>\n",
       "<table border=\"1\" class=\"dataframe\">\n",
       "  <thead>\n",
       "    <tr style=\"text-align: right;\">\n",
       "      <th></th>\n",
       "      <th>Reviews</th>\n",
       "      <th>Rating</th>\n",
       "      <th>Date</th>\n",
       "      <th>Country</th>\n",
       "    </tr>\n",
       "  </thead>\n",
       "  <tbody>\n",
       "    <tr>\n",
       "      <th>0</th>\n",
       "      <td>✅ Trip Verified |  As always when I fly BA it ...</td>\n",
       "      <td>\\n\\t\\t\\t\\t\\t\\t\\t\\t\\t\\t\\t\\t\\t5</td>\n",
       "      <td>9th January 2024</td>\n",
       "      <td>Spain</td>\n",
       "    </tr>\n",
       "    <tr>\n",
       "      <th>1</th>\n",
       "      <td>✅ Trip Verified |  First time using BA busines...</td>\n",
       "      <td>1</td>\n",
       "      <td>7th January 2024</td>\n",
       "      <td>United Kingdom</td>\n",
       "    </tr>\n",
       "    <tr>\n",
       "      <th>2</th>\n",
       "      <td>Not Verified |  Extremely rude ground service....</td>\n",
       "      <td>9</td>\n",
       "      <td>3rd January 2024</td>\n",
       "      <td>United States</td>\n",
       "    </tr>\n",
       "    <tr>\n",
       "      <th>3</th>\n",
       "      <td>✅ Trip Verified |  My son and I flew to Geneva...</td>\n",
       "      <td>6</td>\n",
       "      <td>2nd January 2024</td>\n",
       "      <td>China</td>\n",
       "    </tr>\n",
       "    <tr>\n",
       "      <th>4</th>\n",
       "      <td>✅ Trip Verified |  For the price paid (bought ...</td>\n",
       "      <td>1</td>\n",
       "      <td>29th December 2023</td>\n",
       "      <td>United Kingdom</td>\n",
       "    </tr>\n",
       "  </tbody>\n",
       "</table>\n",
       "</div>"
      ],
      "text/plain": [
       "                                             Reviews  \\\n",
       "0  ✅ Trip Verified |  As always when I fly BA it ...   \n",
       "1  ✅ Trip Verified |  First time using BA busines...   \n",
       "2  Not Verified |  Extremely rude ground service....   \n",
       "3  ✅ Trip Verified |  My son and I flew to Geneva...   \n",
       "4  ✅ Trip Verified |  For the price paid (bought ...   \n",
       "\n",
       "                          Rating                Date         Country  \n",
       "0  \\n\\t\\t\\t\\t\\t\\t\\t\\t\\t\\t\\t\\t\\t5    9th January 2024           Spain  \n",
       "1                              1    7th January 2024  United Kingdom  \n",
       "2                              9    3rd January 2024   United States  \n",
       "3                              6    2nd January 2024           China  \n",
       "4                              1  29th December 2023  United Kingdom  "
      ]
     },
     "execution_count": 2,
     "metadata": {},
     "output_type": "execute_result"
    }
   ],
   "source": [
    "df = pd.read_csv(\"BA_Scraped Data.csv\")\n",
    "df.head()"
   ]
  },
  {
   "cell_type": "code",
   "execution_count": 3,
   "id": "4e39d971",
   "metadata": {},
   "outputs": [],
   "source": [
    "# Creating a column of verification\n",
    "\n",
    "df[\"Verified\"] = df.Reviews.str.contains(\"Trip Verified\")"
   ]
  },
  {
   "cell_type": "code",
   "execution_count": 4,
   "id": "fd16b4d1",
   "metadata": {},
   "outputs": [
    {
     "data": {
      "text/html": [
       "<div>\n",
       "<style scoped>\n",
       "    .dataframe tbody tr th:only-of-type {\n",
       "        vertical-align: middle;\n",
       "    }\n",
       "\n",
       "    .dataframe tbody tr th {\n",
       "        vertical-align: top;\n",
       "    }\n",
       "\n",
       "    .dataframe thead th {\n",
       "        text-align: right;\n",
       "    }\n",
       "</style>\n",
       "<table border=\"1\" class=\"dataframe\">\n",
       "  <thead>\n",
       "    <tr style=\"text-align: right;\">\n",
       "      <th></th>\n",
       "      <th>Reviews</th>\n",
       "      <th>Rating</th>\n",
       "      <th>Date</th>\n",
       "      <th>Country</th>\n",
       "      <th>Verified</th>\n",
       "    </tr>\n",
       "  </thead>\n",
       "  <tbody>\n",
       "    <tr>\n",
       "      <th>0</th>\n",
       "      <td>✅ Trip Verified |  As always when I fly BA it ...</td>\n",
       "      <td>\\n\\t\\t\\t\\t\\t\\t\\t\\t\\t\\t\\t\\t\\t5</td>\n",
       "      <td>9th January 2024</td>\n",
       "      <td>Spain</td>\n",
       "      <td>True</td>\n",
       "    </tr>\n",
       "    <tr>\n",
       "      <th>1</th>\n",
       "      <td>✅ Trip Verified |  First time using BA busines...</td>\n",
       "      <td>1</td>\n",
       "      <td>7th January 2024</td>\n",
       "      <td>United Kingdom</td>\n",
       "      <td>True</td>\n",
       "    </tr>\n",
       "    <tr>\n",
       "      <th>2</th>\n",
       "      <td>Not Verified |  Extremely rude ground service....</td>\n",
       "      <td>9</td>\n",
       "      <td>3rd January 2024</td>\n",
       "      <td>United States</td>\n",
       "      <td>False</td>\n",
       "    </tr>\n",
       "    <tr>\n",
       "      <th>3</th>\n",
       "      <td>✅ Trip Verified |  My son and I flew to Geneva...</td>\n",
       "      <td>6</td>\n",
       "      <td>2nd January 2024</td>\n",
       "      <td>China</td>\n",
       "      <td>True</td>\n",
       "    </tr>\n",
       "    <tr>\n",
       "      <th>4</th>\n",
       "      <td>✅ Trip Verified |  For the price paid (bought ...</td>\n",
       "      <td>1</td>\n",
       "      <td>29th December 2023</td>\n",
       "      <td>United Kingdom</td>\n",
       "      <td>True</td>\n",
       "    </tr>\n",
       "  </tbody>\n",
       "</table>\n",
       "</div>"
      ],
      "text/plain": [
       "                                             Reviews  \\\n",
       "0  ✅ Trip Verified |  As always when I fly BA it ...   \n",
       "1  ✅ Trip Verified |  First time using BA busines...   \n",
       "2  Not Verified |  Extremely rude ground service....   \n",
       "3  ✅ Trip Verified |  My son and I flew to Geneva...   \n",
       "4  ✅ Trip Verified |  For the price paid (bought ...   \n",
       "\n",
       "                          Rating                Date         Country  Verified  \n",
       "0  \\n\\t\\t\\t\\t\\t\\t\\t\\t\\t\\t\\t\\t\\t5    9th January 2024           Spain      True  \n",
       "1                              1    7th January 2024  United Kingdom      True  \n",
       "2                              9    3rd January 2024   United States     False  \n",
       "3                              6    2nd January 2024           China      True  \n",
       "4                              1  29th December 2023  United Kingdom      True  "
      ]
     },
     "execution_count": 4,
     "metadata": {},
     "output_type": "execute_result"
    }
   ],
   "source": [
    "df.head()"
   ]
  },
  {
   "cell_type": "markdown",
   "id": "d4231549",
   "metadata": {},
   "source": [
    "## Cleaning  the data\n"
   ]
  },
  {
   "cell_type": "code",
   "execution_count": 5,
   "id": "b7b04d0c",
   "metadata": {
    "scrolled": true
   },
   "outputs": [
    {
     "name": "stderr",
     "output_type": "stream",
     "text": [
      "[nltk_data] Downloading package stopwords to\n",
      "[nltk_data]     C:\\Users\\91889\\AppData\\Roaming\\nltk_data...\n",
      "[nltk_data]   Package stopwords is already up-to-date!\n"
     ]
    }
   ],
   "source": [
    "from nltk.stem import WordNetLemmatizer\n",
    "import nltk\n",
    "nltk.download('stopwords')\n",
    "from nltk.corpus import stopwords\n",
    "\n",
    "\n",
    "lemma = WordNetLemmatizer()\n",
    "\n",
    "reviews_data = df.Reviews.str.strip(\"✅ Trip Verified |\")\n",
    "\n",
    "corpus = [] # To store the genetated corpus\n",
    "\n",
    "for rev in reviews_data:\n",
    "    rev = re.sub('[^a-zA-Z]',' ',rev)\n",
    "    rev = rev.lower()\n",
    "    rev = rev.split()\n",
    "    rev = [lemma.lemmatize(word) for word in rev if word not in set(stopwords.words(\"english\"))]\n",
    "    rev = \" \".join(rev)\n",
    "    corpus.append(rev)"
   ]
  },
  {
   "cell_type": "code",
   "execution_count": 6,
   "id": "cb9b89f7",
   "metadata": {},
   "outputs": [],
   "source": [
    "df['Corpus'] = corpus"
   ]
  },
  {
   "cell_type": "code",
   "execution_count": 7,
   "id": "35f6697f",
   "metadata": {},
   "outputs": [
    {
     "data": {
      "text/html": [
       "<div>\n",
       "<style scoped>\n",
       "    .dataframe tbody tr th:only-of-type {\n",
       "        vertical-align: middle;\n",
       "    }\n",
       "\n",
       "    .dataframe tbody tr th {\n",
       "        vertical-align: top;\n",
       "    }\n",
       "\n",
       "    .dataframe thead th {\n",
       "        text-align: right;\n",
       "    }\n",
       "</style>\n",
       "<table border=\"1\" class=\"dataframe\">\n",
       "  <thead>\n",
       "    <tr style=\"text-align: right;\">\n",
       "      <th></th>\n",
       "      <th>Reviews</th>\n",
       "      <th>Rating</th>\n",
       "      <th>Date</th>\n",
       "      <th>Country</th>\n",
       "      <th>Verified</th>\n",
       "      <th>Corpus</th>\n",
       "    </tr>\n",
       "  </thead>\n",
       "  <tbody>\n",
       "    <tr>\n",
       "      <th>0</th>\n",
       "      <td>✅ Trip Verified |  As always when I fly BA it ...</td>\n",
       "      <td>\\n\\t\\t\\t\\t\\t\\t\\t\\t\\t\\t\\t\\t\\t5</td>\n",
       "      <td>9th January 2024</td>\n",
       "      <td>Spain</td>\n",
       "      <td>True</td>\n",
       "      <td>always fly ba total shamble booked manchester ...</td>\n",
       "    </tr>\n",
       "    <tr>\n",
       "      <th>1</th>\n",
       "      <td>✅ Trip Verified |  First time using BA busines...</td>\n",
       "      <td>1</td>\n",
       "      <td>7th January 2024</td>\n",
       "      <td>United Kingdom</td>\n",
       "      <td>True</td>\n",
       "      <td>first time using ba business class pleased ser...</td>\n",
       "    </tr>\n",
       "    <tr>\n",
       "      <th>2</th>\n",
       "      <td>Not Verified |  Extremely rude ground service....</td>\n",
       "      <td>9</td>\n",
       "      <td>3rd January 2024</td>\n",
       "      <td>United States</td>\n",
       "      <td>False</td>\n",
       "      <td>verified extremely rude ground service non rev...</td>\n",
       "    </tr>\n",
       "    <tr>\n",
       "      <th>3</th>\n",
       "      <td>✅ Trip Verified |  My son and I flew to Geneva...</td>\n",
       "      <td>6</td>\n",
       "      <td>2nd January 2024</td>\n",
       "      <td>China</td>\n",
       "      <td>True</td>\n",
       "      <td>son flew geneva last sunday skiing holiday le ...</td>\n",
       "    </tr>\n",
       "    <tr>\n",
       "      <th>4</th>\n",
       "      <td>✅ Trip Verified |  For the price paid (bought ...</td>\n",
       "      <td>1</td>\n",
       "      <td>29th December 2023</td>\n",
       "      <td>United Kingdom</td>\n",
       "      <td>True</td>\n",
       "      <td>price paid bought sale decent experience altho...</td>\n",
       "    </tr>\n",
       "  </tbody>\n",
       "</table>\n",
       "</div>"
      ],
      "text/plain": [
       "                                             Reviews  \\\n",
       "0  ✅ Trip Verified |  As always when I fly BA it ...   \n",
       "1  ✅ Trip Verified |  First time using BA busines...   \n",
       "2  Not Verified |  Extremely rude ground service....   \n",
       "3  ✅ Trip Verified |  My son and I flew to Geneva...   \n",
       "4  ✅ Trip Verified |  For the price paid (bought ...   \n",
       "\n",
       "                          Rating                Date         Country  \\\n",
       "0  \\n\\t\\t\\t\\t\\t\\t\\t\\t\\t\\t\\t\\t\\t5    9th January 2024           Spain   \n",
       "1                              1    7th January 2024  United Kingdom   \n",
       "2                              9    3rd January 2024   United States   \n",
       "3                              6    2nd January 2024           China   \n",
       "4                              1  29th December 2023  United Kingdom   \n",
       "\n",
       "   Verified                                             Corpus  \n",
       "0      True  always fly ba total shamble booked manchester ...  \n",
       "1      True  first time using ba business class pleased ser...  \n",
       "2     False  verified extremely rude ground service non rev...  \n",
       "3      True  son flew geneva last sunday skiing holiday le ...  \n",
       "4      True  price paid bought sale decent experience altho...  "
      ]
     },
     "execution_count": 7,
     "metadata": {},
     "output_type": "execute_result"
    }
   ],
   "source": [
    "df.head()"
   ]
  },
  {
   "cell_type": "markdown",
   "id": "ecf55393",
   "metadata": {},
   "source": [
    "## Cleaning The Date"
   ]
  },
  {
   "cell_type": "code",
   "execution_count": 8,
   "id": "00f1c0ec",
   "metadata": {},
   "outputs": [
    {
     "data": {
      "text/plain": [
       "Reviews     object\n",
       "Rating      object\n",
       "Date        object\n",
       "Country     object\n",
       "Verified      bool\n",
       "Corpus      object\n",
       "dtype: object"
      ]
     },
     "execution_count": 8,
     "metadata": {},
     "output_type": "execute_result"
    }
   ],
   "source": [
    "df.dtypes"
   ]
  },
  {
   "cell_type": "code",
   "execution_count": 9,
   "id": "e2ce3cb9",
   "metadata": {},
   "outputs": [],
   "source": [
    "df.Date = pd.to_datetime(df.Date)"
   ]
  },
  {
   "cell_type": "code",
   "execution_count": 10,
   "id": "4fb0e381",
   "metadata": {},
   "outputs": [
    {
     "data": {
      "text/plain": [
       "0   2024-01-09\n",
       "1   2024-01-07\n",
       "2   2024-01-03\n",
       "3   2024-01-02\n",
       "4   2023-12-29\n",
       "Name: Date, dtype: datetime64[ns]"
      ]
     },
     "execution_count": 10,
     "metadata": {},
     "output_type": "execute_result"
    }
   ],
   "source": [
    "df.Date.head()"
   ]
  },
  {
   "cell_type": "markdown",
   "id": "eab60765",
   "metadata": {},
   "source": [
    "## Cleaning rating with stars"
   ]
  },
  {
   "cell_type": "code",
   "execution_count": 11,
   "id": "392ef02e",
   "metadata": {},
   "outputs": [
    {
     "data": {
      "text/plain": [
       "array(['\\n\\t\\t\\t\\t\\t\\t\\t\\t\\t\\t\\t\\t\\t5', '1', '9', '6', '8', '2', '5', '3',\n",
       "       '10', '4', '7', 'None'], dtype=object)"
      ]
     },
     "execution_count": 11,
     "metadata": {},
     "output_type": "execute_result"
    }
   ],
   "source": [
    "# Checking for unique values\n",
    "df.Rating.unique()"
   ]
  },
  {
   "cell_type": "code",
   "execution_count": 12,
   "id": "b0aa1585",
   "metadata": {},
   "outputs": [],
   "source": [
    "df.Rating= df.Rating.str.strip(\"\\n\\t\\t\\t\\t\\t\\t\\t\\t\\t\\t\\t\\t\\t\")"
   ]
  },
  {
   "cell_type": "code",
   "execution_count": 13,
   "id": "9df9f567",
   "metadata": {},
   "outputs": [
    {
     "data": {
      "text/plain": [
       "1       868\n",
       "2       421\n",
       "3       401\n",
       "8       364\n",
       "10      324\n",
       "7       309\n",
       "9       307\n",
       "5       267\n",
       "4       247\n",
       "6       187\n",
       "None      5\n",
       "Name: Rating, dtype: int64"
      ]
     },
     "execution_count": 13,
     "metadata": {},
     "output_type": "execute_result"
    }
   ],
   "source": [
    "df.Rating.value_counts()"
   ]
  },
  {
   "cell_type": "code",
   "execution_count": 14,
   "id": "739ac841",
   "metadata": {},
   "outputs": [],
   "source": [
    "df.drop(df[df.Rating == \"None\"].index, inplace = True)"
   ]
  },
  {
   "cell_type": "code",
   "execution_count": 15,
   "id": "08657140",
   "metadata": {},
   "outputs": [
    {
     "data": {
      "text/plain": [
       "array(['5', '1', '9', '6', '8', '2', '3', '10', '4', '7'], dtype=object)"
      ]
     },
     "execution_count": 15,
     "metadata": {},
     "output_type": "execute_result"
    }
   ],
   "source": [
    "df.Rating.unique()"
   ]
  },
  {
   "cell_type": "markdown",
   "id": "11f0675d",
   "metadata": {},
   "source": [
    "## Check for NULL values"
   ]
  },
  {
   "cell_type": "code",
   "execution_count": 16,
   "id": "7e7b6f29",
   "metadata": {},
   "outputs": [
    {
     "data": {
      "text/plain": [
       "Reviews  Rating  Date   Country  Verified  Corpus\n",
       "False    False   False  False    False     False     3693\n",
       "                        True     False     False        2\n",
       "dtype: int64"
      ]
     },
     "execution_count": 16,
     "metadata": {},
     "output_type": "execute_result"
    }
   ],
   "source": [
    "df.isnull().value_counts()"
   ]
  },
  {
   "cell_type": "code",
   "execution_count": 17,
   "id": "9e1b715b",
   "metadata": {},
   "outputs": [],
   "source": [
    "df.drop(df[df.Country.isnull() == True].index, inplace = True)"
   ]
  },
  {
   "cell_type": "code",
   "execution_count": 18,
   "id": "25f12e8f",
   "metadata": {},
   "outputs": [
    {
     "data": {
      "text/plain": [
       "Reviews  Rating  Date   Country  Verified  Corpus\n",
       "False    False   False  False    False     False     3693\n",
       "dtype: int64"
      ]
     },
     "execution_count": 18,
     "metadata": {},
     "output_type": "execute_result"
    }
   ],
   "source": [
    "df.isnull().value_counts()"
   ]
  },
  {
   "cell_type": "code",
   "execution_count": 19,
   "id": "faed358f",
   "metadata": {},
   "outputs": [
    {
     "data": {
      "text/plain": [
       "(3693, 6)"
      ]
     },
     "execution_count": 19,
     "metadata": {},
     "output_type": "execute_result"
    }
   ],
   "source": [
    "df.shape"
   ]
  },
  {
   "cell_type": "code",
   "execution_count": 20,
   "id": "de0d4dc5",
   "metadata": {},
   "outputs": [
    {
     "data": {
      "text/html": [
       "<div>\n",
       "<style scoped>\n",
       "    .dataframe tbody tr th:only-of-type {\n",
       "        vertical-align: middle;\n",
       "    }\n",
       "\n",
       "    .dataframe tbody tr th {\n",
       "        vertical-align: top;\n",
       "    }\n",
       "\n",
       "    .dataframe thead th {\n",
       "        text-align: right;\n",
       "    }\n",
       "</style>\n",
       "<table border=\"1\" class=\"dataframe\">\n",
       "  <thead>\n",
       "    <tr style=\"text-align: right;\">\n",
       "      <th></th>\n",
       "      <th>Reviews</th>\n",
       "      <th>Rating</th>\n",
       "      <th>Date</th>\n",
       "      <th>Country</th>\n",
       "      <th>Verified</th>\n",
       "      <th>Corpus</th>\n",
       "    </tr>\n",
       "  </thead>\n",
       "  <tbody>\n",
       "    <tr>\n",
       "      <th>0</th>\n",
       "      <td>✅ Trip Verified |  As always when I fly BA it ...</td>\n",
       "      <td>5</td>\n",
       "      <td>2024-01-09</td>\n",
       "      <td>Spain</td>\n",
       "      <td>True</td>\n",
       "      <td>always fly ba total shamble booked manchester ...</td>\n",
       "    </tr>\n",
       "    <tr>\n",
       "      <th>1</th>\n",
       "      <td>✅ Trip Verified |  First time using BA busines...</td>\n",
       "      <td>1</td>\n",
       "      <td>2024-01-07</td>\n",
       "      <td>United Kingdom</td>\n",
       "      <td>True</td>\n",
       "      <td>first time using ba business class pleased ser...</td>\n",
       "    </tr>\n",
       "    <tr>\n",
       "      <th>2</th>\n",
       "      <td>Not Verified |  Extremely rude ground service....</td>\n",
       "      <td>9</td>\n",
       "      <td>2024-01-03</td>\n",
       "      <td>United States</td>\n",
       "      <td>False</td>\n",
       "      <td>verified extremely rude ground service non rev...</td>\n",
       "    </tr>\n",
       "    <tr>\n",
       "      <th>3</th>\n",
       "      <td>✅ Trip Verified |  My son and I flew to Geneva...</td>\n",
       "      <td>6</td>\n",
       "      <td>2024-01-02</td>\n",
       "      <td>China</td>\n",
       "      <td>True</td>\n",
       "      <td>son flew geneva last sunday skiing holiday le ...</td>\n",
       "    </tr>\n",
       "    <tr>\n",
       "      <th>4</th>\n",
       "      <td>✅ Trip Verified |  For the price paid (bought ...</td>\n",
       "      <td>1</td>\n",
       "      <td>2023-12-29</td>\n",
       "      <td>United Kingdom</td>\n",
       "      <td>True</td>\n",
       "      <td>price paid bought sale decent experience altho...</td>\n",
       "    </tr>\n",
       "    <tr>\n",
       "      <th>...</th>\n",
       "      <td>...</td>\n",
       "      <td>...</td>\n",
       "      <td>...</td>\n",
       "      <td>...</td>\n",
       "      <td>...</td>\n",
       "      <td>...</td>\n",
       "    </tr>\n",
       "    <tr>\n",
       "      <th>3688</th>\n",
       "      <td>Once again a good flight from LHR to Warsaw in...</td>\n",
       "      <td>10</td>\n",
       "      <td>2014-05-11</td>\n",
       "      <td>United Kingdom</td>\n",
       "      <td>False</td>\n",
       "      <td>good flight lhr warsaw cabin crew efficient fr...</td>\n",
       "    </tr>\n",
       "    <tr>\n",
       "      <th>3689</th>\n",
       "      <td>LGW-MRU-LGW in business. Outbound flight good ...</td>\n",
       "      <td>6</td>\n",
       "      <td>2014-05-11</td>\n",
       "      <td>United Kingdom</td>\n",
       "      <td>False</td>\n",
       "      <td>lgw mru lgw business outbound flight good atte...</td>\n",
       "    </tr>\n",
       "    <tr>\n",
       "      <th>3690</th>\n",
       "      <td>LHR-FRA-LCY May 2014. LHR-FRA on a 767 row 18....</td>\n",
       "      <td>2</td>\n",
       "      <td>2014-05-11</td>\n",
       "      <td>United Kingdom</td>\n",
       "      <td>False</td>\n",
       "      <td>lhr fra lcy may lhr fra row checked via mobile...</td>\n",
       "    </tr>\n",
       "    <tr>\n",
       "      <th>3691</th>\n",
       "      <td>Rating : 10/10 Cabin Flown Economy Value for M...</td>\n",
       "      <td>9</td>\n",
       "      <td>2014-05-11</td>\n",
       "      <td>United Kingdom</td>\n",
       "      <td>False</td>\n",
       "      <td>rating cabin flown economy value money seat co...</td>\n",
       "    </tr>\n",
       "    <tr>\n",
       "      <th>3692</th>\n",
       "      <td>08/5/2014 JFK-LHR-BRU. After the perfect outbo...</td>\n",
       "      <td>8</td>\n",
       "      <td>2014-05-11</td>\n",
       "      <td>Belgium</td>\n",
       "      <td>False</td>\n",
       "      <td>jfk lhr bru perfect outbound flight thought in...</td>\n",
       "    </tr>\n",
       "  </tbody>\n",
       "</table>\n",
       "<p>3693 rows × 6 columns</p>\n",
       "</div>"
      ],
      "text/plain": [
       "                                                Reviews Rating       Date  \\\n",
       "0     ✅ Trip Verified |  As always when I fly BA it ...      5 2024-01-09   \n",
       "1     ✅ Trip Verified |  First time using BA busines...      1 2024-01-07   \n",
       "2     Not Verified |  Extremely rude ground service....      9 2024-01-03   \n",
       "3     ✅ Trip Verified |  My son and I flew to Geneva...      6 2024-01-02   \n",
       "4     ✅ Trip Verified |  For the price paid (bought ...      1 2023-12-29   \n",
       "...                                                 ...    ...        ...   \n",
       "3688  Once again a good flight from LHR to Warsaw in...     10 2014-05-11   \n",
       "3689  LGW-MRU-LGW in business. Outbound flight good ...      6 2014-05-11   \n",
       "3690  LHR-FRA-LCY May 2014. LHR-FRA on a 767 row 18....      2 2014-05-11   \n",
       "3691  Rating : 10/10 Cabin Flown Economy Value for M...      9 2014-05-11   \n",
       "3692  08/5/2014 JFK-LHR-BRU. After the perfect outbo...      8 2014-05-11   \n",
       "\n",
       "             Country  Verified  \\\n",
       "0              Spain      True   \n",
       "1     United Kingdom      True   \n",
       "2      United States     False   \n",
       "3              China      True   \n",
       "4     United Kingdom      True   \n",
       "...              ...       ...   \n",
       "3688  United Kingdom     False   \n",
       "3689  United Kingdom     False   \n",
       "3690  United Kingdom     False   \n",
       "3691  United Kingdom     False   \n",
       "3692         Belgium     False   \n",
       "\n",
       "                                                 Corpus  \n",
       "0     always fly ba total shamble booked manchester ...  \n",
       "1     first time using ba business class pleased ser...  \n",
       "2     verified extremely rude ground service non rev...  \n",
       "3     son flew geneva last sunday skiing holiday le ...  \n",
       "4     price paid bought sale decent experience altho...  \n",
       "...                                                 ...  \n",
       "3688  good flight lhr warsaw cabin crew efficient fr...  \n",
       "3689  lgw mru lgw business outbound flight good atte...  \n",
       "3690  lhr fra lcy may lhr fra row checked via mobile...  \n",
       "3691  rating cabin flown economy value money seat co...  \n",
       "3692  jfk lhr bru perfect outbound flight thought in...  \n",
       "\n",
       "[3693 rows x 6 columns]"
      ]
     },
     "execution_count": 20,
     "metadata": {},
     "output_type": "execute_result"
    }
   ],
   "source": [
    "df.reset_index(drop = True)"
   ]
  },
  {
   "cell_type": "code",
   "execution_count": 21,
   "id": "c0abb0fd",
   "metadata": {},
   "outputs": [],
   "source": [
    "df.to_csv(\"BA_Cleaned Data.csv\")"
   ]
  },
  {
   "cell_type": "code",
   "execution_count": null,
   "id": "4e9af6e6",
   "metadata": {},
   "outputs": [],
   "source": []
  }
 ],
 "metadata": {
  "kernelspec": {
   "display_name": "Python 3 (ipykernel)",
   "language": "python",
   "name": "python3"
  },
  "language_info": {
   "codemirror_mode": {
    "name": "ipython",
    "version": 3
   },
   "file_extension": ".py",
   "mimetype": "text/x-python",
   "name": "python",
   "nbconvert_exporter": "python",
   "pygments_lexer": "ipython3",
   "version": "3.11.4"
  }
 },
 "nbformat": 4,
 "nbformat_minor": 5
}
